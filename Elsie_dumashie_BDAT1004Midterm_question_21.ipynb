{
  "nbformat": 4,
  "nbformat_minor": 0,
  "metadata": {
    "colab": {
      "provenance": []
    },
    "kernelspec": {
      "name": "python3",
      "display_name": "Python 3"
    },
    "language_info": {
      "name": "python"
    }
  },
  "cells": [
    {
      "cell_type": "code",
      "execution_count": null,
      "metadata": {
        "id": "g-oQADppkz0l"
      },
      "outputs": [],
      "source": []
    },
    {
      "cell_type": "markdown",
      "source": [
        "_int()__: Constructor that takes as input a pair of Point objects that represent the ends points of the line segment\n",
        "Length():: returns the length if the segment\n",
        "Slope() returns the slope of the segment of none if the slope is unbounded\n",
        "\n",
        ">>> p1 = Point(3,4)\n",
        ">>> p2 = Point()\n",
        ">>> s = Segment(p1,p2)\n",
        ">>> s.length()\n",
        "5.0\n",
        ">>> s.slope()\n",
        "0.75"
      ],
      "metadata": {
        "id": "KBUVG6qgk6WW"
      }
    },
    {
      "cell_type": "code",
      "source": [
        "import math\n",
        "class Point:\n",
        "  def __init__(self,x=0,y=0):\n",
        "    self.x = x\n",
        "    self.y = y\n",
        "\n",
        "class Segment:\n",
        "  def __init__(self, p1, p2):\n",
        "    self.p1 = p1\n",
        "    self.p2 = p2\n",
        "\n",
        "  def length(self):\n",
        "    return math.sqrt((self.p2.x - self.p1.x)**2 + (self.p2.y - self.p1.y)**2)\n",
        "\n",
        "  def slope(self):\n",
        "    return (self.p2.x-self.p1.x)/(self.p2.y-self.p1.y)\n",
        "\n"
      ],
      "metadata": {
        "id": "mTr9mGORk8vA"
      },
      "execution_count": 37,
      "outputs": []
    },
    {
      "cell_type": "code",
      "source": [
        "p1=Point(3,4)\n",
        "p2=Point()\n",
        "s = Segment(p1,p2)"
      ],
      "metadata": {
        "id": "x1HPmKU3xXUk"
      },
      "execution_count": 38,
      "outputs": []
    },
    {
      "cell_type": "code",
      "source": [
        "s.length()"
      ],
      "metadata": {
        "colab": {
          "base_uri": "https://localhost:8080/"
        },
        "id": "HYzPJS7X0g9l",
        "outputId": "3217341a-901b-4ba2-b5f1-baaabcf1ce42"
      },
      "execution_count": 40,
      "outputs": [
        {
          "output_type": "execute_result",
          "data": {
            "text/plain": [
              "5.0"
            ]
          },
          "metadata": {},
          "execution_count": 40
        }
      ]
    },
    {
      "cell_type": "code",
      "source": [
        "s.slope()"
      ],
      "metadata": {
        "colab": {
          "base_uri": "https://localhost:8080/"
        },
        "id": "RwmAB8Ef0iYZ",
        "outputId": "9803b592-8a6b-4f8c-e9a4-9278238ce293"
      },
      "execution_count": 39,
      "outputs": [
        {
          "output_type": "execute_result",
          "data": {
            "text/plain": [
              "0.75"
            ]
          },
          "metadata": {},
          "execution_count": 39
        }
      ]
    }
  ]
}